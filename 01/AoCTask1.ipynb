{
 "cells": [
  {
   "cell_type": "code",
   "execution_count": 1,
   "metadata": {},
   "outputs": [],
   "source": [
    "import numpy as np\n"
   ]
  },
  {
   "cell_type": "code",
   "execution_count": 2,
   "metadata": {},
   "outputs": [],
   "source": [
    "input_data=np.loadtxt('ip_task1.csv')"
   ]
  },
  {
   "cell_type": "code",
   "execution_count": 3,
   "metadata": {},
   "outputs": [
    {
     "data": {
      "text/plain": [
       "510.0"
      ]
     },
     "execution_count": 3,
     "metadata": {},
     "output_type": "execute_result"
    }
   ],
   "source": [
    "np.sum(input_data)"
   ]
  },
  {
   "cell_type": "code",
   "execution_count": 4,
   "metadata": {},
   "outputs": [],
   "source": [
    "ip1 = [1,-2,3,1,1,-2]\n",
    "ip2 = [1,-1]\n",
    "ip3 = [3,3,4,-2,-4]\n",
    "ip4= [-6,3,8,5,-6]\n",
    "ip5 = [7,7,-2,-7,-4]"
   ]
  },
  {
   "cell_type": "code",
   "execution_count": 6,
   "metadata": {},
   "outputs": [
    {
     "name": "stdout",
     "output_type": "stream",
     "text": [
      "FOUND DUPLICATE: 69074.0\n"
     ]
    }
   ],
   "source": [
    "ip = input_data\n",
    "\n",
    "res=[0]\n",
    "i = -1\n",
    "\n",
    "while (True) :\n",
    "    i=i+1\n",
    "    if (i==len(ip)):\n",
    "        i = 0;\n",
    "    new_freq = res[-1]+ip[i]\n",
    "    #print ('current freq: ',res[-1], ' change of: ',  ip[i], '>>', new_freq)\n",
    "    if (new_freq in res):\n",
    "        print ('FOUND DUPLICATE:',new_freq)\n",
    "        break;\n",
    "    else:\n",
    "        res.append(new_freq)\n"
   ]
  }
 ],
 "metadata": {
  "kernelspec": {
   "display_name": "Python 3",
   "language": "python",
   "name": "python3"
  },
  "language_info": {
   "codemirror_mode": {
    "name": "ipython",
    "version": 3
   },
   "file_extension": ".py",
   "mimetype": "text/x-python",
   "name": "python",
   "nbconvert_exporter": "python",
   "pygments_lexer": "ipython3",
   "version": "3.6.5"
  }
 },
 "nbformat": 4,
 "nbformat_minor": 2
}
