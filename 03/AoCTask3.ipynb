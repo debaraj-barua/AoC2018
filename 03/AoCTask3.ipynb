{
 "cells": [
  {
   "cell_type": "code",
   "execution_count": 1,
   "metadata": {},
   "outputs": [],
   "source": [
    "import numpy as np\n",
    "import pandas as pd"
   ]
  },
  {
   "cell_type": "markdown",
   "metadata": {},
   "source": [
    "# Day 3\n",
    "\n",
    "## Part 1: No Matter How You Slice It\n",
    "\n",
    "The Elves managed to locate the chimney-squeeze prototype fabric for Santa's suit (thanks to someone who helpfully wrote its box IDs on the wall of the warehouse in the middle of the night). Unfortunately, anomalies are still affecting them - nobody can even agree on how to **cut** the fabric.\n",
    "\n",
    "The whole piece of fabric they're working on is a very large square - at least `1000` inches on each side.\n",
    "\n",
    "Each Elf has made a **claim** about which area of fabric would be ideal for Santa's suit. All claims have an ID and consist of a single rectangle with edges parallel to the edges of the fabric. Each claim's rectangle is defined as follows:\n",
    "\n",
    "- The number of inches between the left edge of the fabric and the left edge of the rectangle.\n",
    "- The number of inches between the top edge of the fabric and the top edge of the rectangle.\n",
    "- The width of the rectangle in inches.\n",
    "- The height of the rectangle in inches.\n",
    "\n",
    "A claim like `#123 @ 3,2: 5x4` means that claim ID `123` specifies a rectangle `3` inches from the left edge, `2` inches from the top edge, `5` inches wide, and `4` inches tall. Visually, it claims the square inches of fabric represented by `#` (and ignores the square inches of fabric represented by `.`) in the diagram below:\n",
    "\n",
    "```\n",
    "...........\n",
    "...........\n",
    "...#####...\n",
    "...#####...\n",
    "...#####...\n",
    "...#####...\n",
    "...........\n",
    "...........\n",
    "...........\n",
    "```\n",
    "\n",
    "The problem is that many of the claims **overlap**, causing two or more claims to cover part of the same areas. For example, consider the following claims:\n",
    "\n",
    "- `#1 @ 1,3: 4x4`\n",
    "- `#2 @ 3,1: 4x4`\n",
    "- `#3 @ 5,5: 2x2`\n",
    "\n",
    "Visually, these claim the following areas:\n",
    "\n",
    "```\n",
    "........\n",
    "...2222.\n",
    "...2222.\n",
    ".11XX22.\n",
    ".11XX22.\n",
    ".111133.\n",
    ".111133.\n",
    "........\n",
    "```\n",
    "\n",
    "The four square inches marked with `X` are claimed by both 1 and 2. (Claim 3, while adjacent to the others, does not overlap either of them.)\n",
    "\n",
    "If the Elves all proceed with their own plans, none of them will have enough fabric. **How many square inches of fabric are within two or more claims?**"
   ]
  },
  {
   "cell_type": "code",
   "execution_count": 33,
   "metadata": {},
   "outputs": [],
   "source": [
    "actualSize=1000\n",
    "trialSize=8"
   ]
  },
  {
   "cell_type": "code",
   "execution_count": 104,
   "metadata": {},
   "outputs": [],
   "source": [
    "file = 'input.text'\n",
    "fabric = np.full([actualSize,actualSize],0)\n",
    "check = 0\n",
    "nonOverlap = {}\n",
    "with open(file) as f:\n",
    "    for line in f:\n",
    "        idx = int(line.split('@')[0].split('#')[1].strip())\n",
    "        cell = list(map(int,line.split('@')[1].split(':')[0].split(',')))\n",
    "        size= list(map(int,line.split('@')[1].split(':')[1].split('\\n')[0].split('x')))\n",
    "        nonOverlap[idx]=True\n",
    "        \n",
    "        \n",
    "        for i in range(cell[0],cell[0]+size[0]):\n",
    "            for j in range(cell[1],cell[1]+size[1]):\n",
    "                if (fabric[i,j] == 0):\n",
    "                    fabric[i,j]=idx\n",
    "                elif (fabric[i,j] != -1):\n",
    "                    nonOverlap[idx]=False\n",
    "                    nonOverlap[fabric[i,j]]=False                   \n",
    "                    check = check+1\n",
    "                    fabric[i,j]=-1\n",
    "                else:\n",
    "                    nonOverlap[fabric[i,j]]=False                     \n",
    "    "
   ]
  },
  {
   "cell_type": "code",
   "execution_count": 110,
   "metadata": {
    "scrolled": true
   },
   "outputs": [
    {
     "data": {
      "text/plain": [
       "100261"
      ]
     },
     "execution_count": 110,
     "metadata": {},
     "output_type": "execute_result"
    }
   ],
   "source": [
    "check"
   ]
  },
  {
   "cell_type": "code",
   "execution_count": 111,
   "metadata": {},
   "outputs": [
    {
     "data": {
      "text/plain": [
       "array([[0, 0, 0, ..., 0, 0, 0],\n",
       "       [0, 0, 0, ..., 0, 0, 0],\n",
       "       [0, 0, 0, ..., 0, 0, 0],\n",
       "       ...,\n",
       "       [0, 0, 0, ..., 0, 0, 0],\n",
       "       [0, 0, 0, ..., 0, 0, 0],\n",
       "       [0, 0, 0, ..., 0, 0, 0]])"
      ]
     },
     "execution_count": 111,
     "metadata": {},
     "output_type": "execute_result"
    }
   ],
   "source": [
    "fabric"
   ]
  },
  {
   "cell_type": "code",
   "execution_count": 112,
   "metadata": {},
   "outputs": [],
   "source": [
    "np.savetxt('fabric',fabric)"
   ]
  },
  {
   "cell_type": "markdown",
   "metadata": {},
   "source": [
    "## Part 2\n",
    "\n",
    "Amidst the chaos, you notice that exactly one claim doesn't overlap by even a single square inch of fabric with any other claim. If you can somehow draw attention to it, maybe the Elves will be able to make Santa's suit after all!\n",
    "\n",
    "For example, in the claims above, only claim 3 is intact after all claims are made.\n",
    "\n",
    "What is the ID of the only claim that doesn't overlap?"
   ]
  },
  {
   "cell_type": "code",
   "execution_count": 113,
   "metadata": {},
   "outputs": [
    {
     "data": {
      "text/plain": [
       "[251, 376, 556, 1148, 1180]"
      ]
     },
     "execution_count": 113,
     "metadata": {},
     "output_type": "execute_result"
    }
   ],
   "source": [
    "[key  for (key, value) in nonOverlap.items() if value == True]"
   ]
  },
  {
   "cell_type": "code",
   "execution_count": 106,
   "metadata": {},
   "outputs": [],
   "source": [
    "correct = {}\n",
    "with open(file) as f:\n",
    "    for line in f:\n",
    "        idx = int(line.split('@')[0].split('#')[1].strip())\n",
    "        cell = list(map(int,line.split('@')[1].split(':')[0].split(',')))\n",
    "        size= list(map(int,line.split('@')[1].split(':')[1].split('\\n')[0].split('x')))      \n",
    "        flag = True\n",
    "        for i in range(cell[0],cell[0]+size[0]):\n",
    "            for j in range(cell[1],cell[1]+size[1]):\n",
    "                if (fabric[i,j] == -1):\n",
    "                    correct[idx]=False\n",
    "                    flag = False\n",
    "        if (flag):\n",
    "            correct[idx]=True\n",
    "            "
   ]
  },
  {
   "cell_type": "code",
   "execution_count": 108,
   "metadata": {},
   "outputs": [
    {
     "data": {
      "text/plain": [
       "[251]"
      ]
     },
     "execution_count": 108,
     "metadata": {},
     "output_type": "execute_result"
    }
   ],
   "source": [
    "[key  for (key, value) in correct.items() if value == True]"
   ]
  }
 ],
 "metadata": {
  "kernelspec": {
   "display_name": "Python 3",
   "language": "python",
   "name": "python3"
  },
  "language_info": {
   "codemirror_mode": {
    "name": "ipython",
    "version": 3
   },
   "file_extension": ".py",
   "mimetype": "text/x-python",
   "name": "python",
   "nbconvert_exporter": "python",
   "pygments_lexer": "ipython3",
   "version": "3.6.5"
  }
 },
 "nbformat": 4,
 "nbformat_minor": 2
}
