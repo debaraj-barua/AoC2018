{
 "cells": [
  {
   "cell_type": "markdown",
   "metadata": {},
   "source": [
    "# Day 5: Alchemical Reduction\n",
    "\n",
    "## Part 1\n",
    "\n",
    "You've managed to sneak in to the prototype suit manufacturing lab. The Elves are making decent progress, but are still struggling with the suit's size reduction capabilities.\n",
    "\n",
    "While the very latest in 1518 alchemical technology might have solved their problem eventually, you can do better. You scan the chemical composition of the suit's material and discover that it is formed by extremely long **polymers** (one of which is available as your puzzle input).\n",
    "\n",
    "The polymer is formed by smaller **units** which, when triggered, react with each other such that two adjacent units of the same type and opposite polarity are destroyed. Units' types are represented by letters; units' polarity is represented by capitalization. For instance, `r` and `R` are units with the same type but opposite polarity, whereas r and s are entirely different types and do not react.\n",
    "\n",
    "For example:\n",
    "\n",
    "- In `aA`, `a` and `A` react, leaving nothing behind.\n",
    "- In `abBA`, `bB` destroys itself, leaving `aA`. As above, this then destroys itself, leaving nothing.\n",
    "- In `abAB`, no two adjacent units are of the same type, and so nothing happens.\n",
    "- In `aabAAB`, even though `aa` and `AA` are of the same type, their polarities match, and so nothing happens.\n",
    "\n",
    "Now, consider a larger example, `dabAcCaCBAcCcaDA`:\n",
    "\n",
    "- `dabAcCaCBAcCcaDA`  The first `cC` is removed.\n",
    "- `dabAaCBAcCcaDA`    This creates `Aa`, which is removed.\n",
    "- `dabCBAcCcaDA`      Either `cC` or `Cc` are removed (the result is the same).\n",
    "- `dabCBAcaDA`        No further actions can be taken.\n",
    "\n",
    "After all possible reactions, the resulting polymer contains **10 units**.\n",
    "\n",
    "**How many units remain after fully reacting the polymer you scanned?** (Note: in this puzzle and others, the input is large; if you copy/paste your input, make sure you get the whole thing.)\n"
   ]
  },
  {
   "cell_type": "code",
   "execution_count": 1,
   "metadata": {},
   "outputs": [],
   "source": [
    "import string\n",
    "import re"
   ]
  },
  {
   "cell_type": "code",
   "execution_count": 2,
   "metadata": {},
   "outputs": [
    {
     "name": "stdout",
     "output_type": "stream",
     "text": [
      "Polymer sequence list:  50000\n"
     ]
    }
   ],
   "source": [
    "samplePolymer = \"dabAcCaCBAcCcaDA\"\n",
    "\n",
    "with open('inputPolymer.txt', 'r') as myfile:\n",
    "    inputPolymer = myfile.read()\n",
    "\n",
    "polymer = inputPolymer.strip()\n",
    "print (\"Polymer sequence list: \", len(polymer))"
   ]
  },
  {
   "cell_type": "code",
   "execution_count": 3,
   "metadata": {},
   "outputs": [],
   "source": [
    "def react(polymer):\n",
    "    polymer = list(polymer)\n",
    "    polymer.reverse()\n",
    "    newPolymer = []\n",
    "    while (polymer):\n",
    "        char = polymer.pop()\n",
    "        if newPolymer:\n",
    "            if abs(ord(char) - ord(newPolymer[-1])) == 32:\n",
    "                newPolymer.pop()\n",
    "            else:\n",
    "                newPolymer.append(char)\n",
    "        else:\n",
    "            newPolymer.append(char)\n",
    "    \n",
    "    solution = ''.join(newPolymer) \n",
    "    return solution,len(solution)\n",
    "    "
   ]
  },
  {
   "cell_type": "code",
   "execution_count": 4,
   "metadata": {},
   "outputs": [
    {
     "data": {
      "text/plain": [
       "11108"
      ]
     },
     "execution_count": 4,
     "metadata": {},
     "output_type": "execute_result"
    }
   ],
   "source": [
    "react(polymer)[1]"
   ]
  },
  {
   "cell_type": "markdown",
   "metadata": {},
   "source": [
    "## Part Two \n",
    "\n",
    "Time to improve the polymer.\n",
    "\n",
    "One of the unit types is causing problems; it's preventing the polymer from collapsing as much as it should. Your goal is to figure out which unit type is causing the most problems, remove all instances of it (regardless of polarity), fully react the remaining polymer, and measure its length.\n",
    "\n",
    "For example, again using the polymer `dabAcCaCBAcCcaDA` from above:\n",
    "\n",
    "- Removing all `A/a` units produces `dbcCCBcCcD`. Fully reacting this polymer produces `dbCBcD`, which has length 6.\n",
    "- Removing all `B/b` units produces `daAcCaCAcCcaDA`. Fully reacting this polymer produces `daCAcaDA`, which has length 8.\n",
    "- Removing all `C/c` units produces `dabAaBAaDA`. Fully reacting this polymer produces `daDA`, which has length 4.\n",
    "- Removing all `D/d` units produces `abAcCaCBAcCcaA`. Fully reacting this polymer produces `abCBAc`, which has length 6.\n",
    "\n",
    "In this example, removing all C/c units was best, producing the answer 4.\n",
    "\n",
    "**What is the length of the shortest polymer you can produce** by removing all units of exactly one type and fully reacting the result?"
   ]
  },
  {
   "cell_type": "code",
   "execution_count": 5,
   "metadata": {
    "scrolled": true
   },
   "outputs": [
    {
     "data": {
      "text/plain": [
       "5094"
      ]
     },
     "execution_count": 5,
     "metadata": {},
     "output_type": "execute_result"
    }
   ],
   "source": [
    "min(\n",
    "    [react(re.sub(r'{}|{}'.format(c, c.upper()), '', polymer))\n",
    "     for c in string.ascii_lowercase],\n",
    "    key=lambda x: x[1]\n",
    ")[1]"
   ]
  },
  {
   "cell_type": "code",
   "execution_count": 6,
   "metadata": {},
   "outputs": [
    {
     "data": {
      "text/plain": [
       "5094"
      ]
     },
     "execution_count": 6,
     "metadata": {},
     "output_type": "execute_result"
    }
   ],
   "source": [
    "def remove_react(polymer, char):\n",
    "    strippedPolymer = re.sub(\n",
    "        r'{}|{}'.format(char, char.upper()), '', polymer)\n",
    "    return react(strippedPolymer)[1]\n",
    "    \n",
    "\n",
    "min([remove_react(polymer, c) for c in string.ascii_lowercase])"
   ]
  }
 ],
 "metadata": {
  "kernelspec": {
   "display_name": "Python 3",
   "language": "python",
   "name": "python3"
  },
  "language_info": {
   "codemirror_mode": {
    "name": "ipython",
    "version": 3
   },
   "file_extension": ".py",
   "mimetype": "text/x-python",
   "name": "python",
   "nbconvert_exporter": "python",
   "pygments_lexer": "ipython3",
   "version": "3.6.5"
  }
 },
 "nbformat": 4,
 "nbformat_minor": 2
}
