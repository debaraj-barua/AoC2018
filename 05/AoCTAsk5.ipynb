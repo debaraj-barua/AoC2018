{
 "cells": [
  {
   "cell_type": "markdown",
   "metadata": {},
   "source": [
    "# Day 5: Alchemical Reduction\n",
    "\n",
    "## Part 1\n",
    "\n",
    "You've managed to sneak in to the prototype suit manufacturing lab. The Elves are making decent progress, but are still struggling with the suit's size reduction capabilities.\n",
    "\n",
    "While the very latest in 1518 alchemical technology might have solved their problem eventually, you can do better. You scan the chemical composition of the suit's material and discover that it is formed by extremely long **polymers** (one of which is available as your puzzle input).\n",
    "\n",
    "The polymer is formed by smaller **units** which, when triggered, react with each other such that two adjacent units of the same type and opposite polarity are destroyed. Units' types are represented by letters; units' polarity is represented by capitalization. For instance, `r` and `R` are units with the same type but opposite polarity, whereas r and s are entirely different types and do not react.\n",
    "\n",
    "For example:\n",
    "\n",
    "- In `aA`, `a` and `A` react, leaving nothing behind.\n",
    "- In `abBA`, `bB` destroys itself, leaving `aA`. As above, this then destroys itself, leaving nothing.\n",
    "- In `abAB`, no two adjacent units are of the same type, and so nothing happens.\n",
    "- In `aabAAB`, even though `aa` and `AA` are of the same type, their polarities match, and so nothing happens.\n",
    "\n",
    "Now, consider a larger example, `dabAcCaCBAcCcaDA`:\n",
    "\n",
    "- `dabAcCaCBAcCcaDA`  The first `cC` is removed.\n",
    "- `dabAaCBAcCcaDA`    This creates `Aa`, which is removed.\n",
    "- `dabCBAcCcaDA`      Either `cC` or `Cc` are removed (the result is the same).\n",
    "- `dabCBAcaDA`        No further actions can be taken.\n",
    "\n",
    "After all possible reactions, the resulting polymer contains **10 units**.\n",
    "\n",
    "**How many units remain after fully reacting the polymer you scanned?** (Note: in this puzzle and others, the input is large; if you copy/paste your input, make sure you get the whole thing.)\n"
   ]
  },
  {
   "cell_type": "code",
   "execution_count": 84,
   "metadata": {},
   "outputs": [
    {
     "name": "stdout",
     "output_type": "stream",
     "text": [
      "50000\n"
     ]
    }
   ],
   "source": [
    "samplePolymer = \"dabAcCaCBAcCcaDA\"\n",
    "\n",
    "with open('inputPolymer.txt', 'r') as myfile:\n",
    "    inputPolymer = myfile.read()\n",
    "\n",
    "polymer = inputPolymer\n",
    "print (len(polymer))"
   ]
  },
  {
   "cell_type": "code",
   "execution_count": 85,
   "metadata": {},
   "outputs": [
    {
     "ename": "KeyboardInterrupt",
     "evalue": "",
     "output_type": "error",
     "traceback": [
      "\u001b[0;31m---------------------------------------------------------------------------\u001b[0m",
      "\u001b[0;31mKeyboardInterrupt\u001b[0m                         Traceback (most recent call last)",
      "\u001b[0;32m<ipython-input-85-0a5e978dc908>\u001b[0m in \u001b[0;36m<module>\u001b[0;34m()\u001b[0m\n\u001b[1;32m     11\u001b[0m     \u001b[0mcopyPolymer\u001b[0m \u001b[0;34m=\u001b[0m \u001b[0mpolymer\u001b[0m\u001b[0;34m\u001b[0m\u001b[0m\n\u001b[1;32m     12\u001b[0m     \u001b[0;32mfor\u001b[0m \u001b[0mitem\u001b[0m \u001b[0;32min\u001b[0m \u001b[0mdeleteIds\u001b[0m\u001b[0;34m:\u001b[0m\u001b[0;34m\u001b[0m\u001b[0m\n\u001b[0;32m---> 13\u001b[0;31m         \u001b[0;32mif\u001b[0m \u001b[0;32mnot\u001b[0m \u001b[0mitem\u001b[0m\u001b[0;34m[\u001b[0m\u001b[0;36m0\u001b[0m\u001b[0;34m]\u001b[0m \u001b[0;32min\u001b[0m \u001b[0mdeleted\u001b[0m \u001b[0;32mand\u001b[0m \u001b[0;32mnot\u001b[0m \u001b[0mitem\u001b[0m\u001b[0;34m[\u001b[0m\u001b[0;36m1\u001b[0m\u001b[0;34m]\u001b[0m \u001b[0;32min\u001b[0m \u001b[0mdeleted\u001b[0m\u001b[0;34m:\u001b[0m\u001b[0;34m\u001b[0m\u001b[0m\n\u001b[0m\u001b[1;32m     14\u001b[0m             \u001b[0mpolymer\u001b[0m \u001b[0;34m=\u001b[0m \u001b[0mcopyPolymer\u001b[0m\u001b[0;34m[\u001b[0m\u001b[0;36m0\u001b[0m\u001b[0;34m:\u001b[0m\u001b[0mitem\u001b[0m\u001b[0;34m[\u001b[0m\u001b[0;36m0\u001b[0m\u001b[0;34m]\u001b[0m\u001b[0;34m]\u001b[0m\u001b[0;34m+\u001b[0m\u001b[0mcopyPolymer\u001b[0m\u001b[0;34m[\u001b[0m\u001b[0mitem\u001b[0m\u001b[0;34m[\u001b[0m\u001b[0;36m1\u001b[0m\u001b[0;34m]\u001b[0m\u001b[0;34m+\u001b[0m\u001b[0;36m1\u001b[0m\u001b[0;34m:\u001b[0m\u001b[0;34m]\u001b[0m\u001b[0;34m\u001b[0m\u001b[0m\n\u001b[1;32m     15\u001b[0m             \u001b[0mdeleted\u001b[0m\u001b[0;34m.\u001b[0m\u001b[0mappend\u001b[0m\u001b[0;34m(\u001b[0m\u001b[0mitem\u001b[0m\u001b[0;34m[\u001b[0m\u001b[0;36m0\u001b[0m\u001b[0;34m]\u001b[0m\u001b[0;34m)\u001b[0m\u001b[0;34m\u001b[0m\u001b[0m\n",
      "\u001b[0;31mKeyboardInterrupt\u001b[0m: "
     ]
    }
   ],
   "source": [
    "stillReacting = True\n",
    "while(stillReacting):\n",
    "    deleteIds = []\n",
    "    deleted = []\n",
    "    stillReacting = False\n",
    "    strippedPolymer = polymer[1:]\n",
    "    for i, char in enumerate(strippedPolymer): \n",
    "        if (char == polymer[i].lower() or \n",
    "                 char.lower() == polymer[i]):\n",
    "            deleteIds.append([i,i+1])\n",
    "    copyPolymer = polymer\n",
    "    for item in deleteIds:\n",
    "        if not item[0] in deleted and not item[1] in deleted:\n",
    "            polymer = copyPolymer[0:item[0]]+copyPolymer[item[1]+1:]\n",
    "            deleted.append(item[0])\n",
    "            deleted.append(item[1])\n",
    "            stillReacting = True\n",
    "       "
   ]
  },
  {
   "cell_type": "code",
   "execution_count": 17,
   "metadata": {
    "scrolled": true
   },
   "outputs": [],
   "source": [
    "\"\"\"stillReacting = True\n",
    "while(stillReacting):\n",
    "    stillReacting = False\n",
    "    for i, char in enumerate(polymer):         \n",
    "        if (i+1<len(polymer) and\n",
    "            (char == polymer[i+1].lower() or \n",
    "             char.lower() == polymer[i+1])):\n",
    "            stillReacting = True\n",
    "            polymer = polymer[0:i]+polymer[i+2:]\n",
    "            break\"\"\""
   ]
  },
  {
   "cell_type": "code",
   "execution_count": 83,
   "metadata": {},
   "outputs": [
    {
     "name": "stdout",
     "output_type": "stream",
     "text": [
      "10\n",
      "dabCBAcaDA\n"
     ]
    }
   ],
   "source": [
    "print (len(polymer))\n",
    "print (polymer)"
   ]
  },
  {
   "cell_type": "markdown",
   "metadata": {},
   "source": [
    "1178: too low"
   ]
  }
 ],
 "metadata": {
  "kernelspec": {
   "display_name": "Python 3",
   "language": "python",
   "name": "python3"
  },
  "language_info": {
   "codemirror_mode": {
    "name": "ipython",
    "version": 3
   },
   "file_extension": ".py",
   "mimetype": "text/x-python",
   "name": "python",
   "nbconvert_exporter": "python",
   "pygments_lexer": "ipython3",
   "version": "3.6.5"
  }
 },
 "nbformat": 4,
 "nbformat_minor": 2
}
